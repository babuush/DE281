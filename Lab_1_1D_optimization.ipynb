{
 "nbformat": 4,
 "nbformat_minor": 0,
 "metadata": {
  "colab": {
   "provenance": [],
   "include_colab_link": true
  },
  "kernelspec": {
   "name": "python3",
   "display_name": "Python 3 (ipykernel)",
   "language": "python"
  },
  "language_info": {
   "name": "python"
  }
 },
 "cells": [
  {
   "cell_type": "markdown",
   "metadata": {
    "id": "view-in-github",
    "colab_type": "text"
   },
   "source": [
    "<a href=\"https://colab.research.google.com/github/babuush/DE281/blob/main/Lab_1_1D_optimization.ipynb\" target=\"_parent\"><img src=\"https://colab.research.google.com/assets/colab-badge.svg\" alt=\"Open In Colab\"/></a>"
   ]
  },
  {
   "cell_type": "markdown",
   "source": [
    "**Lab 1D optimization**\n",
    "\n",
    "\n",
    "\n",
    "\n",
    "คะแนนเต็ม = 10 คะแนน ส่งช้า -1 ต่อวัน\n",
    "\n",
    "\n",
    "upload link  ใน moodle\n",
    "\n",
    "เขียนคำตอบตรง #your code here หรือ #your answer here"
   ],
   "metadata": {
    "id": "10WWvTvSwBpX"
   }
  },
  {
   "cell_type": "markdown",
   "source": [
    "\n",
    "\n",
    "---\n",
    "\n",
    "\n",
    "\n",
    "---\n",
    "\n",
    "\n",
    "\n",
    "ชื่อ-สกุล รหัสนิสิต : ธนภัทร ปิยมาศสกุล 66102010169\n",
    "\n",
    "\n",
    "\n",
    "---\n",
    "\n"
   ],
   "metadata": {
    "id": "r2tRfGnl4-g7"
   }
  },
  {
   "cell_type": "code",
   "source": [
    "%matplotlib inline\n",
    "import matplotlib.pyplot as plt\n",
    "import numpy as np\n",
    "from scipy.optimize import minimize_scalar"
   ],
   "metadata": {
    "id": "mZzcyuMCr9Pz",
    "ExecuteTime": {
     "end_time": "2024-10-18T08:33:25.066143Z",
     "start_time": "2024-10-18T08:33:23.861783Z"
    }
   },
   "outputs": [],
   "execution_count": 1
  },
  {
   "cell_type": "markdown",
   "source": [
    "# Q1"
   ],
   "metadata": {
    "id": "KYvPUv_tsI0e"
   }
  },
  {
   "cell_type": "code",
   "source": [
    "# Define the objective function\n",
    "def objective_function(x):\n",
    "    return -2 * np.sin(x) + (x ** 2 / 10)"
   ],
   "metadata": {
    "id": "H7nO9A7Hr9Ms",
    "ExecuteTime": {
     "end_time": "2024-10-18T08:33:25.482095Z",
     "start_time": "2024-10-18T08:33:25.478378Z"
    }
   },
   "outputs": [],
   "execution_count": 2
  },
  {
   "cell_type": "code",
   "source": "res = minimize_scalar(objective_function, method='golden', options={'disp': True})",
   "metadata": {
    "id": "O_I1sl2dr9Gm",
    "ExecuteTime": {
     "end_time": "2024-10-18T08:33:25.584069Z",
     "start_time": "2024-10-18T08:33:25.576801Z"
    }
   },
   "outputs": [
    {
     "name": "stdout",
     "output_type": "stream",
     "text": [
      "\n",
      "Optimization terminated successfully;\n",
      "The returned value satisfies the termination criteria\n",
      "(using xtol = 1.4901161193847656e-08 )\n"
     ]
    }
   ],
   "execution_count": 3
  },
  {
   "cell_type": "code",
   "source": "print(f'minimizer x = {res.x}, minimum value= {res.fun}, iteration= {res.nit}')",
   "metadata": {
    "id": "OXq6CccbslSM",
    "ExecuteTime": {
     "end_time": "2024-10-18T08:39:20.426405Z",
     "start_time": "2024-10-18T08:39:20.420046Z"
    }
   },
   "outputs": [
    {
     "name": "stdout",
     "output_type": "stream",
     "text": [
      "minimizer x = 1.427551770354865, minimum value= -1.775725653147415, iteration= 38\n"
     ]
    }
   ],
   "execution_count": 5
  },
  {
   "metadata": {
    "id": "_E9zx4Z7slmd"
   },
   "cell_type": "code",
   "outputs": [],
   "execution_count": null,
   "source": [
    "# your answer from code\n",
    "# minimizer x = 1.427551770354865 \n",
    "# minimum value = -1.775725653147415"
   ]
  },
  {
   "cell_type": "code",
   "source": [
    "# your answer after converting from minimum to be maximum\n",
    "# maximizer x = -1.427551770354865 \n",
    "# maximum value = 1.775725653147415"
   ],
   "metadata": {
    "id": "mCASQ7OX4bRF"
   },
   "execution_count": null,
   "outputs": []
  },
  {
   "cell_type": "markdown",
   "source": [
    "# Q2"
   ],
   "metadata": {
    "id": "pKgh4b-vst3z"
   }
  },
  {
   "cell_type": "code",
   "source": [
    "# Define the objective function\n",
    "def objective_function(x):\n",
    "    return np.cos(x) + 5 * np.cos(1.6 * x) - 2 * np.cos(2 * x) + 5 * np.cos(4.5 * x) + 7 * np.cos(9 * x)"
   ],
   "metadata": {
    "id": "CpEQ_ldistQD",
    "ExecuteTime": {
     "end_time": "2024-10-18T08:41:54.548450Z",
     "start_time": "2024-10-18T08:41:54.538477Z"
    }
   },
   "outputs": [],
   "execution_count": 6
  },
  {
   "cell_type": "code",
   "source": "res_golden = minimize_scalar(objective_function, method='golden', options={'disp': True})",
   "metadata": {
    "id": "6h4CuXuhstNU"
   },
   "execution_count": null,
   "outputs": []
  },
  {
   "cell_type": "code",
   "source": [
    "# your answer for global minimum\n",
    "\n",
    "# minimizer x =\n",
    "# minimum value ="
   ],
   "metadata": {
    "id": "GUGV4MpAstKU"
   },
   "execution_count": null,
   "outputs": []
  }
 ]
}
