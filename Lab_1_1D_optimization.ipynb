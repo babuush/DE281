{
 "nbformat": 4,
 "nbformat_minor": 0,
 "metadata": {
  "colab": {
   "provenance": [],
   "include_colab_link": true
  },
  "kernelspec": {
   "name": "python3",
   "display_name": "Python 3"
  },
  "language_info": {
   "name": "python"
  }
 },
 "cells": [
  {
   "cell_type": "markdown",
   "metadata": {
    "id": "view-in-github",
    "colab_type": "text"
   },
   "source": [
    "<a href=\"https://colab.research.google.com/github/babuush/DE281/blob/main/Lab_1_1D_optimization.ipynb\" target=\"_parent\"><img src=\"https://colab.research.google.com/assets/colab-badge.svg\" alt=\"Open In Colab\"/></a>"
   ]
  },
  {
   "cell_type": "markdown",
   "source": [
    "**Lab 1D optimization**\n",
    "\n",
    "\n",
    "\n",
    "\n",
    "คะแนนเต็ม = 10 คะแนน ส่งช้า -1 ต่อวัน\n",
    "\n",
    "\n",
    "upload link  ใน moodle\n",
    "\n",
    "เขียนคำตอบตรง #your code here หรือ #your answer here"
   ],
   "metadata": {
    "id": "10WWvTvSwBpX"
   }
  },
  {
   "cell_type": "markdown",
   "source": [
    "\n",
    "\n",
    "---\n",
    "\n",
    "\n",
    "\n",
    "---\n",
    "\n",
    "\n",
    "\n",
    "ชื่อ-สกุล รหัสนิสิต : ธนภัทร ปิยมาศสกุล 66102010169\n",
    "\n",
    "\n",
    "\n",
    "---\n",
    "\n"
   ],
   "metadata": {
    "id": "r2tRfGnl4-g7"
   }
  },
  {
   "cell_type": "code",
   "source": [
    "%matplotlib inline\n",
    "import matplotlib.pyplot as plt\n",
    "import numpy as np\n",
    "from scipy.optimize import minimize_scalar"
   ],
   "metadata": {
    "id": "mZzcyuMCr9Pz"
   },
   "execution_count": null,
   "outputs": []
  },
  {
   "cell_type": "markdown",
   "source": [
    "# Q1"
   ],
   "metadata": {
    "id": "KYvPUv_tsI0e"
   }
  },
  {
   "cell_type": "code",
   "source": [
    "# Define the objective function\n",
    "def objective_function(x):\n",
    "    return 2 * np.sin(x) - (x ** 2 / 10)\n"
   ],
   "metadata": {
    "id": "H7nO9A7Hr9Ms"
   },
   "execution_count": null,
   "outputs": []
  },
  {
   "cell_type": "code",
   "source": [],
   "metadata": {
    "id": "O_I1sl2dr9Gm"
   },
   "execution_count": null,
   "outputs": []
  },
  {
   "cell_type": "code",
   "source": [],
   "metadata": {
    "id": "OXq6CccbslSM"
   },
   "execution_count": null,
   "outputs": []
  },
  {
   "cell_type": "code",
   "source": [
    "# your answer from code\n",
    "# minimizer x =\n",
    "# minimum value ="
   ],
   "metadata": {
    "id": "_E9zx4Z7slmd"
   },
   "execution_count": null,
   "outputs": []
  },
  {
   "cell_type": "code",
   "source": [
    "# your answer after converting from minimum to be maximum\n",
    "# maximizer x =\n",
    "# maximum value ="
   ],
   "metadata": {
    "id": "mCASQ7OX4bRF"
   },
   "execution_count": null,
   "outputs": []
  },
  {
   "cell_type": "markdown",
   "source": [
    "# Q2"
   ],
   "metadata": {
    "id": "pKgh4b-vst3z"
   }
  },
  {
   "cell_type": "code",
   "source": [
    "# Define the objective function\n",
    "def objective_function(x):\n",
    "    return np.cos(x) + 5 * np.cos(1.6 * x) - 2 * np.cos(2 * x) + 5 * np.cos(4.5 * x) + 7 * np.cos(9 * x)"
   ],
   "metadata": {
    "id": "CpEQ_ldistQD"
   },
   "execution_count": null,
   "outputs": []
  },
  {
   "cell_type": "code",
   "source": [],
   "metadata": {
    "id": "6h4CuXuhstNU"
   },
   "execution_count": null,
   "outputs": []
  },
  {
   "cell_type": "code",
   "source": [
    "# your answer for global minimum\n",
    "\n",
    "# minimizer x =\n",
    "# minimum value ="
   ],
   "metadata": {
    "id": "GUGV4MpAstKU"
   },
   "execution_count": null,
   "outputs": []
  },
  {
   "cell_type": "code",
   "source": [],
   "metadata": {
    "id": "c-rQGqsdqGL-"
   },
   "execution_count": null,
   "outputs": []
  }
 ]
}
